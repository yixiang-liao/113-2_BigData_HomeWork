{
 "cells": [
  {
   "cell_type": "code",
   "execution_count": 3,
   "id": "d42ac35f",
   "metadata": {},
   "outputs": [],
   "source": [
    "import os\n",
    "import sys\n",
    "import pandas as pd\n",
    "import argparse\n",
    "from datetime import datetime\n",
    "\n",
    "# Setup Django environment\n",
    "os.environ.setdefault('DJANGO_SETTINGS_MODULE', 'website_configs.settings')\n",
    "import django\n",
    "django.setup()\n",
    "# 重要：設定環境變數以允許在 Jupyter 的異步環境中執行同步操作\n",
    "os.environ[\"DJANGO_ALLOW_ASYNC_UNSAFE\"] = \"true\"\n",
    "\n",
    "# Now we can import Django models\n",
    "from app_user_keyword_association.models import NewsData"
   ]
  },
  {
   "cell_type": "code",
   "execution_count": null,
   "id": "cb2d9d28",
   "metadata": {},
   "outputs": [],
   "source": [
    " # Read CSV file\n",
    "csv_file_path = 'app_user_keyword/dataset/cna_news_200_preprocessed.csv'\n",
    "df = pd.read_csv(csv_file_path, sep='|')\n",
    "\n",
    "# Process each row and create a NewsData object\n",
    "for _, row in df.iterrows():\n",
    "    # Convert date string to datetime object\n",
    "    date_obj = datetime.strptime(row['date'], '%Y-%m-%d').date()\n",
    "\n",
    "    # Create or update NewsData object\n",
    "    news_data, created = NewsData.objects.update_or_create(\n",
    "        item_id=row['item_id'],\n",
    "        defaults={\n",
    "            'date': date_obj,\n",
    "            'category': row['category'],\n",
    "            'title': row['title'],\n",
    "            'content': row['content'],\n",
    "            'sentiment': row['sentiment'],\n",
    "            'summary': row['summary'],\n",
    "            'top_key_freq': row['top_key_freq'],\n",
    "            'tokens': row['tokens'],\n",
    "            'tokens_v2': row['tokens_v2'],\n",
    "            'entities': row['entities'],\n",
    "            'token_pos': row['token_pos'],\n",
    "            'link': row['link'],\n",
    "            'photo_link': row['photo_link'] if row['photo_link'] != \"\" and not pd.isna(row['photo_link']) else None,\n",
    "        }\n",
    "    )\n",
    "\n",
    "# photo_link 欄位的值可能為以下幾種情況：\n",
    "# 實際有值的 URL 字串\n",
    "# 空字串 (\"\")\n",
    "# Pandas NaN 值（當 CSV 檔案中該欄位為空時）\n",
    "# None 值        "
   ]
  },
  {
   "cell_type": "code",
   "execution_count": null,
   "id": "bea8f33c",
   "metadata": {},
   "outputs": [],
   "source": []
  }
 ],
 "metadata": {
  "kernelspec": {
   "display_name": "ai24",
   "language": "python",
   "name": "python3"
  },
  "language_info": {
   "codemirror_mode": {
    "name": "ipython",
    "version": 3
   },
   "file_extension": ".py",
   "mimetype": "text/x-python",
   "name": "python",
   "nbconvert_exporter": "python",
   "pygments_lexer": "ipython3",
   "version": "3.10.15"
  }
 },
 "nbformat": 4,
 "nbformat_minor": 5
}
