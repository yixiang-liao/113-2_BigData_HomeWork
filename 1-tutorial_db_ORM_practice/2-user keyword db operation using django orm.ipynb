{
 "cells": [
  {
   "cell_type": "code",
   "execution_count": 1,
   "id": "d42ac35f",
   "metadata": {},
   "outputs": [],
   "source": [
    "import os\n",
    "import sys\n",
    "import pandas as pd\n",
    "import argparse\n",
    "from datetime import datetime, timedelta\n",
    "import pathlib\n",
    "\n",
    "# 新增：將上一層目錄加入 sys.path\n",
    "parent_path = pathlib.Path().absolute().parent\n",
    "sys.path.insert(0, str(parent_path))\n",
    "# Setup Django environment\n",
    "os.environ.setdefault('DJANGO_SETTINGS_MODULE', 'website_configs.settings')\n",
    "import django\n",
    "django.setup()\n",
    "# 重要：設定環境變數以允許在 Jupyter 的異步環境中執行同步操作\n",
    "os.environ[\"DJANGO_ALLOW_ASYNC_UNSAFE\"] = \"true\"\n",
    "\n",
    "# Now we can import Django models\n",
    "from app_user_keyword_db.models import NewsData"
   ]
  },
  {
   "cell_type": "markdown",
   "id": "fad2fc61",
   "metadata": {},
   "source": [
    "# Django ORM CRUD Operations Tutorial\n",
    "\n",
    "CRUD stands for Create, Read, Update, and Delete - the four basic operations for database management systems. In this tutorial, we'll explore how to perform these operations using Django ORM with the NewsData model.\n",
    "\n",
    "## NewsData Model Structure\n",
    "\n",
    "Let's first examine the structure of our NewsData model to understand its fields."
   ]
  },
  {
   "cell_type": "code",
   "execution_count": 2,
   "id": "653417c6",
   "metadata": {},
   "outputs": [
    {
     "name": "stdout",
     "output_type": "stream",
     "text": [
      "NewsData Model Fields:\n",
      "- item_id: CharField\n",
      "- date: DateField\n",
      "- category: CharField\n",
      "- title: TextField\n",
      "- content: TextField\n",
      "- sentiment: FloatField\n",
      "- top_key_freq: TextField\n",
      "- tokens: TextField\n",
      "- tokens_v2: TextField\n",
      "- entities: TextField\n",
      "- token_pos: TextField\n",
      "- link: CharField\n",
      "- photo_link: CharField\n",
      "\n",
      "Total news entries in database: 213\n"
     ]
    }
   ],
   "source": [
    "# Inspect the NewsData model fields\n",
    "print('NewsData Model Fields:')\n",
    "for field in NewsData._meta.get_fields():\n",
    "    print(f'- {field.name}: {field.get_internal_type()}')\n",
    "\n",
    "# Display total count of news entries\n",
    "print(f'\\nTotal news entries in database: {NewsData.objects.count()}')"
   ]
  },
  {
   "cell_type": "markdown",
   "id": "5c620dbf",
   "metadata": {},
   "source": [
    "## 1. Create (C) - Adding New Data\n",
    "\n",
    "The 'Create' operation allows us to insert new records into the database. Here are different ways to create new NewsData objects."
   ]
  },
  {
   "cell_type": "code",
   "execution_count": 3,
   "id": "afa07ecb",
   "metadata": {},
   "outputs": [
    {
     "name": "stdout",
     "output_type": "stream",
     "text": [
      "Created news item: 馬斯克蒞臨高科大 (ID: item-123)\n",
      "Note: The other examples are commented out to prevent adding test data to your database.\n"
     ]
    }
   ],
   "source": [
    "# Method 1: Create using the constructor and save() method\n",
    "new_news1 = NewsData(\n",
    "    item_id=\"item-123\", \n",
    "    title=\"馬斯克蒞臨高科大\",\n",
    "    link=\"https://example.com/news1\",\n",
    "    category=\"測試類別\",\n",
    "    content=\"This is a sample content about technology news for demonstration.\",\n",
    "    date=datetime.now().date(),\n",
    "    photo_link=\"https://example.com/image1.jpg\"\n",
    ")\n",
    "# Uncomment to save: new_news1.save()\n",
    "\n",
    "# Method 2: Using objects.create() method\n",
    "# This creates and saves in one step\n",
    "new_news2 = NewsData.objects.create(\n",
    "    item_id=\"item-123\", \n",
    "    title=\"馬斯克蒞臨高科大\",\n",
    "    link=\"https://example.com/news2\",\n",
    "    category=\"測試類別\",\n",
    "    content=\"This is sample content about international news for demonstration.\",\n",
    "    date=datetime.now().date(),\n",
    "    photo_link=None  # Shows that photo_link can be optional\n",
    ")\n",
    "\n",
    "# Method 3: Bulk creation (for adding multiple records at once)\n",
    "news_list = [\n",
    "    NewsData(\n",
    "        item_id=str(i), \n",
    "        title=f\"Bulk Example {i}\", \n",
    "        link=f\"https://example.com/bulk{i}\",\n",
    "        category=\"測試類別\",\n",
    "        content=f\"Bulk created content {i}\",\n",
    "        date=datetime.now().date()\n",
    "    ) for i in range(3, 6)\n",
    "]\n",
    "# Uncomment to save: NewsData.objects.bulk_create(news_list)\n",
    "\n",
    "print(f\"Created news item: {new_news2.title} (ID: {new_news2.item_id})\")\n",
    "print(\"Note: The other examples are commented out to prevent adding test data to your database.\")"
   ]
  },
  {
   "cell_type": "code",
   "execution_count": 4,
   "id": "e5313432",
   "metadata": {},
   "outputs": [
    {
     "data": {
      "text/plain": [
       "(1, {'app_user_keyword_db.NewsData': 1})"
      ]
     },
     "execution_count": 4,
     "metadata": {},
     "output_type": "execute_result"
    }
   ],
   "source": [
    "\n",
    "# Clean up - delete the example we created\n",
    "new_news2.delete()"
   ]
  },
  {
   "cell_type": "code",
   "execution_count": null,
   "id": "4177bf38",
   "metadata": {},
   "outputs": [],
   "source": []
  },
  {
   "cell_type": "markdown",
   "id": "394b0ffc",
   "metadata": {},
   "source": [
    "## 2. Read (R) - Querying Data\n",
    "\n",
    "The 'Read' operation retrieves data from the database. Django ORM provides powerful ways to query data."
   ]
  },
  {
   "cell_type": "code",
   "execution_count": 5,
   "id": "a2c5044d",
   "metadata": {},
   "outputs": [
    {
     "name": "stdout",
     "output_type": "stream",
     "text": [
      "Total news items: 213\n"
     ]
    }
   ],
   "source": [
    "# Basic querying examples\n",
    "\n",
    "# 1. Get all records\n",
    "all_news = NewsData.objects.all()\n",
    "print(f\"Total news items: {all_news.count()}\")\n"
   ]
  },
  {
   "cell_type": "code",
   "execution_count": 6,
   "id": "96a1315b",
   "metadata": {},
   "outputs": [
    {
     "data": {
      "text/plain": [
       "<QuerySet [<NewsData: 2022-03-14: 外交部援烏物資已募4000箱 吳釗燮感謝捐贈民眾>, <NewsData: 2022-03-14: 幻象飛官獲救 空軍：掌握跳傘時機做出好示範>, <NewsData: 2022-03-14: 法製幻象零附件取得不易 空軍：妥善率沒問題>, <NewsData: 2022-03-14: 游錫堃：無禁止反質詢規定  擇期協商討論入法可能>, <NewsData: 2022-03-14: 德國在台協會處長到訪 陳其邁盼拓展多元領域合作>, <NewsData: 2022-03-14: 柯文哲宴請中企名單 北市府：個資保護不公開>, <NewsData: 2022-03-14: 幻象失事墜海 13架次共機白天擾台西南ADIZ>, <NewsData: 2022-03-14: 雪梨僑界誓師  推動台灣加入CPTPP及台澳FTA>, <NewsData: 2022-03-14: 獲救幻象2000飛官住院觀察 雙親傍晚醫院探視>, <NewsData: 2022-03-14: 幻象2000失事飛官獲救  母校高中導師鬆了一口氣>, <NewsData: 2022-03-14: 空軍：幻象等3型戰機暫停訓練 驅離共機任務照常>, <NewsData: 2022-03-14: 賑濟烏克蘭善款 累計突破6億元>, <NewsData: 2022-03-14: 台南基地IDF戰機降落時胎壓不足 人員未受傷>, <NewsData: 2022-03-14: 幻象2000戰機失事飛官平安 空軍初判機械故障[影]>, <NewsData: 2022-03-14: NCC前專委喬建中釀玉山森林大火 監院通過彈劾移送懲戒法院>, <NewsData: 2022-03-14: 商總理事長：企業界盼5月開放國門、入境免隔離>, <NewsData: 2022-03-14: 空軍否認失事幻象驅離共機  屬例行訓練科目>, <NewsData: 2022-03-14: 徐國勇：立院決議不做晶片身分證  怎麼推動要再研議>, <NewsData: 2022-03-14: 幻象2000歷年8次事故7人獲救5殉職 折損6戰機>, <NewsData: 2022-03-14: 徐國勇：個人贊成延長役期  花點時間讓國家永續安全>, '...(remaining elements truncated)...']>"
      ]
     },
     "execution_count": 6,
     "metadata": {},
     "output_type": "execute_result"
    }
   ],
   "source": [
    "all_news"
   ]
  },
  {
   "cell_type": "code",
   "execution_count": 7,
   "id": "36cc4d40",
   "metadata": {},
   "outputs": [
    {
     "name": "stdout",
     "output_type": "stream",
     "text": [
      "\n",
      "News by ID acn_20220313_20: 劉兆佳：香港疫情打擊威信 北京將加強命令特首\n"
     ]
    }
   ],
   "source": [
    "\n",
    "# 2. Get a specific record by ID\n",
    "try:\n",
    "    first_id = NewsData.objects.first().item_id\n",
    "    specific_news = NewsData.objects.get(item_id=first_id)\n",
    "    print(f\"\\nNews by ID {first_id}: {specific_news.title}\")\n",
    "except:\n",
    "    print(\"Couldn't retrieve news by ID\")\n"
   ]
  },
  {
   "cell_type": "code",
   "execution_count": 8,
   "id": "ce5c288e",
   "metadata": {},
   "outputs": [
    {
     "name": "stdout",
     "output_type": "stream",
     "text": [
      "\n",
      "Technology news count: 20\n",
      "Example tech news: 在台推動城市4.0 西門子：智慧城市下一步演變\n"
     ]
    }
   ],
   "source": [
    "\n",
    "# 3. Filter records\n",
    "# Get news from a specific category\n",
    "tech_news = NewsData.objects.filter(category=\"科技\")\n",
    "print(f\"\\nTechnology news count: {tech_news.count()}\")\n",
    "if tech_news.exists():\n",
    "    print(f\"Example tech news: {tech_news.first().title}\")\n"
   ]
  },
  {
   "cell_type": "code",
   "execution_count": 9,
   "id": "0c696887",
   "metadata": {},
   "outputs": [
    {
     "name": "stdout",
     "output_type": "stream",
     "text": [
      "\n",
      "News from the last 7 days: 0\n"
     ]
    }
   ],
   "source": [
    "\n",
    "# 4. Complex filtering\n",
    "# Get news from the last 7 days\n",
    "one_week_ago = datetime.now().date() - timedelta(days=7)\n",
    "recent_news = NewsData.objects.filter(date__gte=one_week_ago)\n",
    "print(f\"\\nNews from the last 7 days: {recent_news.count()}\")\n"
   ]
  },
  {
   "cell_type": "code",
   "execution_count": 11,
   "id": "316c6e3e",
   "metadata": {},
   "outputs": [
    {
     "name": "stdout",
     "output_type": "stream",
     "text": [
      "\n",
      "5 most recent news:\n",
      "- aipl_20220314_1 2022-03-14:政治 外交部援烏物資已募4000箱 吳釗燮感謝捐贈民眾\n",
      "- aipl_20220314_2 2022-03-14:政治 幻象飛官獲救 空軍：掌握跳傘時機做出好示範\n",
      "- aipl_20220314_3 2022-03-14:政治 法製幻象零附件取得不易 空軍：妥善率沒問題\n",
      "- aipl_20220314_4 2022-03-14:政治 游錫堃：無禁止反質詢規定  擇期協商討論入法可能\n",
      "- aipl_20220314_5 2022-03-14:政治 德國在台協會處長到訪 陳其邁盼拓展多元領域合作\n"
     ]
    }
   ],
   "source": [
    "\n",
    "# 5. Ordering\n",
    "latest_news = NewsData.objects.order_by('-date')[:5]  # Get 5 most recent news\n",
    "print(\"\\n5 most recent news:\")\n",
    "for news in latest_news:\n",
    "    print(f\"- {news.item_id} {news.date}:{news.category} {news.title}\")\n"
   ]
  },
  {
   "cell_type": "code",
   "execution_count": 12,
   "id": "427352ca",
   "metadata": {},
   "outputs": [
    {
     "name": "stdout",
     "output_type": "stream",
     "text": [
      "\n",
      "Some news titles:\n",
      "- ('外交部援烏物資已募4000箱 吳釗燮感謝捐贈民眾',)\n",
      "- ('幻象飛官獲救 空軍：掌握跳傘時機做出好示範',)\n",
      "- ('法製幻象零附件取得不易 空軍：妥善率沒問題',)\n"
     ]
    }
   ],
   "source": [
    "\n",
    "# 6. Specific fields selection\n",
    "titles_only = NewsData.objects.values_list('title')[:3]\n",
    "print(\"\\nSome news titles:\")\n",
    "for title in titles_only:\n",
    "    print(f\"- {title}\")\n"
   ]
  },
  {
   "cell_type": "code",
   "execution_count": 13,
   "id": "215777d7",
   "metadata": {},
   "outputs": [
    {
     "data": {
      "text/plain": [
       "<QuerySet [('外交部援烏物資已募4000箱 吳釗燮感謝捐贈民眾',), ('幻象飛官獲救 空軍：掌握跳傘時機做出好示範',), ('法製幻象零附件取得不易 空軍：妥善率沒問題',)]>"
      ]
     },
     "execution_count": 13,
     "metadata": {},
     "output_type": "execute_result"
    }
   ],
   "source": [
    "titles_only"
   ]
  },
  {
   "cell_type": "code",
   "execution_count": 14,
   "id": "6e7de914",
   "metadata": {},
   "outputs": [
    {
     "name": "stdout",
     "output_type": "stream",
     "text": [
      "\n",
      "Some news titles:\n",
      "- 外交部援烏物資已募4000箱 吳釗燮感謝捐贈民眾\n",
      "- 幻象飛官獲救 空軍：掌握跳傘時機做出好示範\n",
      "- 法製幻象零附件取得不易 空軍：妥善率沒問題\n"
     ]
    }
   ],
   "source": [
    "\n",
    "# 6. Specific fields selection\n",
    "titles_only = NewsData.objects.values_list('title', flat=True)[:3]\n",
    "print(\"\\nSome news titles:\")\n",
    "for title in titles_only:\n",
    "    print(f\"- {title}\")\n"
   ]
  },
  {
   "cell_type": "code",
   "execution_count": 15,
   "id": "38eedc74",
   "metadata": {},
   "outputs": [
    {
     "name": "stdout",
     "output_type": "stream",
     "text": [
      "\n",
      "News mentioning '台灣': 75\n"
     ]
    }
   ],
   "source": [
    "\n",
    "# 7. Text search (simple contains)\n",
    "keyword = \"台灣\"\n",
    "matching_news = NewsData.objects.filter(content__contains=keyword).count()\n",
    "print(f\"\\nNews mentioning '{keyword}': {matching_news}\")"
   ]
  },
  {
   "cell_type": "markdown",
   "id": "08aa1b16",
   "metadata": {},
   "source": [
    "## 3. Update (U) - Modifying Data\n",
    "\n",
    "The 'Update' operation modifies existing records in the database. There are several ways to update data in Django."
   ]
  },
  {
   "cell_type": "code",
   "execution_count": 16,
   "id": "7bfcf92e",
   "metadata": {},
   "outputs": [],
   "source": [
    "# Let's demonstrate updates with a temporary test record\n",
    "test_news = NewsData.objects.create(\n",
    "    item_id=\"item-123\", \n",
    "    title=\"Test News for Update Demo\",\n",
    "    link=\"https://example.com/test-update\",\n",
    "    category=\"測試\",\n",
    "    content=\"This is a temporary record to show update operations.\",\n",
    "    date=datetime.now().date()\n",
    ")\n"
   ]
  },
  {
   "cell_type": "code",
   "execution_count": null,
   "id": "6c7b961c",
   "metadata": {},
   "outputs": [
    {
     "name": "stdout",
     "output_type": "stream",
     "text": [
      "Original title: Updated Test News Title\n",
      "Updated title: Updated Test News Title, Category: 更新測試\n"
     ]
    }
   ],
   "source": [
    "# 先取得該筆物件\n",
    "test_news =  NewsData.objects.get(item_id=\"item-123\")\n",
    "\n",
    "# Method 1: Instance update\n",
    "print(f\"Original title: {test_news.title}\")\n",
    "test_news.title = \"Updated Test News Title\"\n",
    "test_news.category = \"更新測試\"\n",
    "test_news.save()\n",
    "print(f\"Updated title: {test_news.title}, Category: {test_news.category}\")\n"
   ]
  },
  {
   "cell_type": "code",
   "execution_count": 33,
   "id": "1afb0421",
   "metadata": {},
   "outputs": [
    {
     "name": "stdout",
     "output_type": "stream",
     "text": [
      "\n",
      "Records updated via QuerySet: 1\n"
     ]
    }
   ],
   "source": [
    "\n",
    "# Method 2: QuerySet update (more efficient for multiple records)\n",
    "# This updates all matching records without loading them into memory\n",
    "update_count = NewsData.objects.filter(item_id=test_news.item_id).update(\n",
    "    content=\"This content was updated using QuerySet.update() method.\",\n",
    "    photo_link=\"https://example.com/updated-image.jpg\"\n",
    ")\n",
    "print(f\"\\nRecords updated via QuerySet: {update_count}\")\n"
   ]
  },
  {
   "cell_type": "code",
   "execution_count": 19,
   "id": "154d94aa",
   "metadata": {},
   "outputs": [
    {
     "data": {
      "text/plain": [
       "(1, {'app_user_keyword_db.NewsData': 1})"
      ]
     },
     "execution_count": 19,
     "metadata": {},
     "output_type": "execute_result"
    }
   ],
   "source": [
    "test_news.delete()"
   ]
  },
  {
   "cell_type": "markdown",
   "id": "d6dabbfb",
   "metadata": {},
   "source": [
    "## 4. Delete (D) - Removing Data\n",
    "\n",
    "The 'Delete' operation removes records from the database. Django provides various methods to delete data."
   ]
  },
  {
   "cell_type": "code",
   "execution_count": 26,
   "id": "195e6d7c",
   "metadata": {},
   "outputs": [],
   "source": [
    "# Let's demonstrate updates with a temporary test record\n",
    "test_news = NewsData.objects.create(\n",
    "    item_id=\"item-123\",  # This will be auto-generated by the database\n",
    "    title=\"Test News for Update Demo\",\n",
    "    link=\"https://example.com/test-update\",\n",
    "    category=\"刪除測試\",\n",
    "    content=\"This is a temporary record to show update operations.\",\n",
    "    date=datetime.now().date()\n",
    ")\n"
   ]
  },
  {
   "cell_type": "code",
   "execution_count": 27,
   "id": "19596597",
   "metadata": {},
   "outputs": [
    {
     "data": {
      "text/plain": [
       "<QuerySet [<NewsData: 2025-05-06: Test News for Update Demo>]>"
      ]
     },
     "execution_count": 27,
     "metadata": {},
     "output_type": "execute_result"
    }
   ],
   "source": [
    "NewsData.objects.filter( category=\"刪除測試\")"
   ]
  },
  {
   "cell_type": "code",
   "execution_count": 28,
   "id": "84656462",
   "metadata": {},
   "outputs": [
    {
     "data": {
      "text/plain": [
       "(1, {'app_user_keyword_db.NewsData': 1})"
      ]
     },
     "execution_count": 28,
     "metadata": {},
     "output_type": "execute_result"
    }
   ],
   "source": [
    "NewsData.objects.filter( category=\"刪除測試\").delete()"
   ]
  },
  {
   "cell_type": "code",
   "execution_count": null,
   "id": "9022ff07",
   "metadata": {},
   "outputs": [],
   "source": []
  },
  {
   "cell_type": "markdown",
   "id": "c4e66d7d",
   "metadata": {},
   "source": [
    "# filter_database_fullText"
   ]
  },
  {
   "cell_type": "code",
   "execution_count": 31,
   "id": "2f1895e9",
   "metadata": {},
   "outputs": [],
   "source": [
    "from django.db.models import Q, Max, F\n",
    "from collections import Counter"
   ]
  },
  {
   "cell_type": "code",
   "execution_count": 32,
   "id": "7477622a",
   "metadata": {},
   "outputs": [],
   "source": [
    "# Searching keywords from \"content\" column\n",
    "# This function now uses database queries instead of pandas\n",
    "def filter_database_fullText(user_keywords, cond, cate, weeks):\n",
    "    # Get the latest date in the database\n",
    "    latest_date = NewsData.objects.aggregate(max_date=Max('date'))['max_date']\n",
    "    \n",
    "    # Calculate start date\n",
    "    start_date = latest_date - timedelta(weeks=weeks)\n",
    "    \n",
    "    # Base query - filter by date range\n",
    "    queryset = NewsData.objects.filter(date__gte=start_date, date__lte=latest_date)\n",
    "    \n",
    "    # Filter by category if not \"全部\"\n",
    "    if cate != \"全部\":\n",
    "        queryset = queryset.filter(category=cate)\n",
    "    \n",
    "    # Filter by keywords based on condition (AND or OR)\n",
    "    if cond == 'and':\n",
    "        # For AND condition, we need all keywords to be present\n",
    "        for kw in user_keywords:\n",
    "            queryset = queryset.filter(content__contains=kw)\n",
    "    elif cond == 'or':\n",
    "        # For OR condition, any keyword can be present\n",
    "        q_objects = Q()\n",
    "        for kw in user_keywords:\n",
    "            q_objects |= Q(content__contains=kw)\n",
    "        # q_objects會長這樣： Q(content__contains=kw1) | Q(content__contains=kw2) | Q(content__contains=kw3)\n",
    "        # 這樣就可以用在filter裡面了\n",
    "        queryset = queryset.filter(q_objects)\n",
    "    \n",
    "    return queryset"
   ]
  },
  {
   "cell_type": "code",
   "execution_count": 33,
   "id": "f2c64d20",
   "metadata": {},
   "outputs": [],
   "source": [
    "\n",
    "user_keywords = ['烏克蘭', '俄羅斯']  # Example keywords\n",
    "cond = 'and'  # Example condition (and/or), \n",
    "cate = '全部'  # Example category (or \"全部\" for all categories)\n",
    "weeks = 4  # Example weeks\n",
    "queryset = filter_database_fullText(user_keywords, cond, cate, weeks)"
   ]
  },
  {
   "cell_type": "code",
   "execution_count": 6,
   "id": "7461b02c",
   "metadata": {},
   "outputs": [
    {
     "name": "stdout",
     "output_type": "stream",
     "text": [
      "俄侵烏克蘭全球憤慨 臉書放寬規定讓人抒發怒火\n",
      "Apple新品一次看 iPhone SE售1萬3900元起iPad Air有5色[影]\n",
      "北京冬季帕運閉幕 帕委會主席談和平與希望\n",
      "俄烏談判露曙光 油價下滑5%\n",
      "華碩停止對俄羅斯出貨 捐款3000萬賑濟烏克蘭\n",
      "油價若續漲 朱澤民：今年CPI有可能超過2%\n",
      "澳洲擴大制裁俄羅斯 歐盟要凍結切爾西老闆資產\n",
      "俄羅斯提核協議新要求 伊朗外長將赴莫斯科討論\n",
      "2022酷寒演習展開 3萬北約兵力集結挪威\n",
      "俄國遭制裁降價求售石油和商品 印度考慮採購\n",
      "烏克蘭戰事中國疫情添不安 亞股多數收黑\n",
      "路透社：美中高層已在羅馬會晤\n",
      "借鑑烏克蘭核電廠遭攻 日研議核廠設專屬警備隊\n",
      "烏俄進行第4輪談判 烏克蘭代表稱雙方溝通困難\n",
      "國際博物館協會發聲拒絕戰爭 吳思瑤籲故宮跟進\n",
      "戰爭時文物如何疏散  故宮3個月內擬對策7月推演\n",
      "香港恆指暴跌千點 失守2萬點創6年新低\n"
     ]
    }
   ],
   "source": [
    "for news in queryset:\n",
    "    print(news.title)"
   ]
  },
  {
   "cell_type": "code",
   "execution_count": 34,
   "id": "4e276c32",
   "metadata": {},
   "outputs": [],
   "source": [
    "# Limit to k results and get specific fields\n",
    "news_items = queryset.values('category', 'title', 'link', 'photo_link')[:3]"
   ]
  },
  {
   "cell_type": "code",
   "execution_count": 35,
   "id": "16648dab",
   "metadata": {},
   "outputs": [
    {
     "data": {
      "text/plain": [
       "<QuerySet [{'category': '科技', 'title': '俄侵烏克蘭全球憤慨 臉書放寬規定讓人抒發怒火', 'link': 'https://www.cna.com.tw/news/ait/202203110088.aspx', 'photo_link': 'https://imgcdn.cna.com.tw/www/WebPhotos/200/20220311/2000x1391_0522240424184.jpg'}, {'category': '科技', 'title': 'Apple新品一次看 iPhone SE售1萬3900元起iPad Air有5色[影]', 'link': 'https://www.cna.com.tw/news/ait/202203090006.aspx', 'photo_link': 'https://imgcdn.cna.com.tw/www/webphotos/WebCover/420/20220309/800x600_644221551345.jpg'}, {'category': '運動', 'title': '北京冬季帕運閉幕 帕委會主席談和平與希望', 'link': 'https://www.cna.com.tw/news/aspt/202203130215.aspx', 'photo_link': None}]>"
      ]
     },
     "execution_count": 35,
     "metadata": {},
     "output_type": "execute_result"
    }
   ],
   "source": [
    "news_items"
   ]
  },
  {
   "cell_type": "code",
   "execution_count": 36,
   "id": "cb2d9d28",
   "metadata": {},
   "outputs": [
    {
     "data": {
      "text/plain": [
       "[datetime.date(2022, 3, 11),\n",
       " datetime.date(2022, 3, 9),\n",
       " datetime.date(2022, 3, 13),\n",
       " datetime.date(2022, 3, 14),\n",
       " datetime.date(2022, 3, 14),\n",
       " datetime.date(2022, 3, 14),\n",
       " datetime.date(2022, 3, 14),\n",
       " datetime.date(2022, 3, 14),\n",
       " datetime.date(2022, 3, 14),\n",
       " datetime.date(2022, 3, 14),\n",
       " datetime.date(2022, 3, 14),\n",
       " datetime.date(2022, 3, 14),\n",
       " datetime.date(2022, 3, 14),\n",
       " datetime.date(2022, 3, 14),\n",
       " datetime.date(2022, 3, 14),\n",
       " datetime.date(2022, 3, 14),\n",
       " datetime.date(2022, 3, 14)]"
      ]
     },
     "execution_count": 36,
     "metadata": {},
     "output_type": "execute_result"
    }
   ],
   "source": [
    "list(queryset.values_list('date', flat=True)) # flat=True to get a flat list 否則會是 tuple"
   ]
  },
  {
   "cell_type": "code",
   "execution_count": 39,
   "id": "da0cf83c",
   "metadata": {},
   "outputs": [
    {
     "data": {
      "text/plain": [
       "{'max_date': datetime.date(2022, 3, 14)}"
      ]
     },
     "execution_count": 39,
     "metadata": {},
     "output_type": "execute_result"
    }
   ],
   "source": [
    "latest_date = NewsData.objects.aggregate(max_date=Max('date'))\n",
    "latest_date"
   ]
  },
  {
   "cell_type": "code",
   "execution_count": null,
   "id": "71c65f67",
   "metadata": {},
   "outputs": [],
   "source": [
    "latest_date = NewsData.objects.aggregate(max_date=Max('date'))['max_date']"
   ]
  },
  {
   "cell_type": "code",
   "execution_count": 38,
   "id": "3485c240",
   "metadata": {},
   "outputs": [
    {
     "data": {
      "text/plain": [
       "datetime.date(2022, 3, 14)"
      ]
     },
     "execution_count": 38,
     "metadata": {},
     "output_type": "execute_result"
    }
   ],
   "source": [
    "latest_date"
   ]
  },
  {
   "cell_type": "code",
   "execution_count": 40,
   "id": "22b70b89",
   "metadata": {},
   "outputs": [
    {
     "name": "stdout",
     "output_type": "stream",
     "text": [
      "Basic aggregations:\n",
      "- count: 213\n",
      "- oldest: 2022-03-03\n",
      "- newest: 2022-03-14\n"
     ]
    }
   ],
   "source": [
    "from django.db.models import Avg, Count, Min, Max, Sum\n",
    "from django.db.models.functions import Extract\n",
    "\n",
    "# Aggregate是用來計算總和、平均值、最小值、最大值等統計數據的函數\n",
    "# 這些函數可以用來對查詢集進行聚合計算，並返回一個字典，其中包含計算結果的鍵值對\n",
    "# Basic aggregation examples\n",
    "aggregations = NewsData.objects.aggregate(\n",
    "    count=Count('item_id'),\n",
    "    oldest=Min('date'),\n",
    "    newest=Max('date'),\n",
    ")\n",
    "print(\"Basic aggregations:\")\n",
    "for key, value in aggregations.items():\n",
    "    print(f\"- {key}: {value}\")\n"
   ]
  },
  {
   "cell_type": "code",
   "execution_count": 41,
   "id": "35efcc7b",
   "metadata": {},
   "outputs": [
    {
     "name": "stdout",
     "output_type": "stream",
     "text": [
      "\n",
      "Top 5 categories by count:\n",
      "- 運動: 20 articles\n",
      "- 證卷: 20 articles\n",
      "- 科技: 20 articles\n",
      "- 社會: 20 articles\n",
      "- 產經: 20 articles\n"
     ]
    }
   ],
   "source": [
    "\n",
    "# Category-based aggregation\n",
    "category_counts = NewsData.objects.values('category').annotate(\n",
    "    count=Count('item_id')\n",
    ").order_by('-count')[:5]  # Top 5 categories\n",
    "print(\"\\nTop 5 categories by count:\")\n",
    "for item in category_counts:\n",
    "    print(f\"- {item['category']}: {item['count']} articles\")"
   ]
  },
  {
   "cell_type": "code",
   "execution_count": 42,
   "id": "de40a737",
   "metadata": {},
   "outputs": [
    {
     "name": "stdout",
     "output_type": "stream",
     "text": [
      "\n",
      "Articles per day (most recent 7 days with data):\n",
      "- 2022-03-14: 175 articles\n",
      "- 2022-03-13: 14 articles\n",
      "- 2022-03-12: 4 articles\n",
      "- 2022-03-11: 4 articles\n",
      "- 2022-03-10: 2 articles\n",
      "- 2022-03-09: 8 articles\n",
      "- 2022-03-08: 3 articles\n"
     ]
    }
   ],
   "source": [
    "# annotate是用來在查詢集中添加計算字段的函數\n",
    "# 這些計算字段可以用來進行進一步的過濾、排序或分組操作\n",
    "# values是用來選擇查詢集中的特定字段的函數 字段就是資料庫中的欄位\n",
    "# Date-based aggregation (articles per day)\n",
    "date_counts = NewsData.objects.values('date').annotate(\n",
    "    count=Count('item_id')\n",
    ").order_by('-date')[:7]  # Last 7 days with data\n",
    "\n",
    "print(\"\\nArticles per day (most recent 7 days with data):\")\n",
    "for item in date_counts:\n",
    "    print(f\"- {item['date']}: {item['count']} articles\")\n"
   ]
  },
  {
   "cell_type": "code",
   "execution_count": null,
   "id": "b59700f6",
   "metadata": {},
   "outputs": [],
   "source": []
  }
 ],
 "metadata": {
  "kernelspec": {
   "display_name": "ai23",
   "language": "python",
   "name": "python3"
  },
  "language_info": {
   "codemirror_mode": {
    "name": "ipython",
    "version": 3
   },
   "file_extension": ".py",
   "mimetype": "text/x-python",
   "name": "python",
   "nbconvert_exporter": "python",
   "pygments_lexer": "ipython3",
   "version": "3.10.6"
  }
 },
 "nbformat": 4,
 "nbformat_minor": 5
}
